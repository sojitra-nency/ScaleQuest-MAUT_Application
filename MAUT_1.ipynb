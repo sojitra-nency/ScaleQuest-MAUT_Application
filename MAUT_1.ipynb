{
  "cells": [
    {
      "cell_type": "markdown",
      "metadata": {
        "id": "IxC8dfP1bWvR"
      },
      "source": [
        "This code performs a Multi-Attribute Utility Theory (MAUT) analysis on a dataset of options. MAUT is a decision-making technique that evaluates alternatives based on multiple criteria. The code reads an Excel file containing the data, preprocesses it by removing unnecessary rows and columns, and renames the columns. It then applies Min-Max normalization to the numeric columns and assigns weights to each attribute. Weighted scores are calculated for each attribute, and an overall score is computed by summing the weighted scores. The options are ranked based on the overall scores, and the ranked options are saved to a CSV file. Finally, a utility curve is plotted using Matplotlib to visualize the relationship between vendors and their utility scores. The utility curve helps in understanding the relative performance of different vendors and assists in decision-making."
      ]
    },
    {
      "cell_type": "code",
      "execution_count": 5,
      "metadata": {
        "colab": {
          "base_uri": "https://localhost:8080/",
          "height": 474
        },
        "id": "Au2SmOWJQMEY",
        "outputId": "9415908b-1b57-4637-e0f0-c4474f7b0622"
      },
      "outputs": [
        {
          "data": {
            "image/png": "[encoded data removed]",
            "text/plain": [
              "<Figure size 432x288 with 1 Axes>"
            ]
          },
          "metadata": {
            "needs_background": "light"
          },
          "output_type": "display_data"
        }
      ],
      "source": [
        "import pandas as pd\n",
        "from sklearn.preprocessing import MinMaxScaler\n",
        "import matplotlib.pyplot as plt\n",
        "\n",
        "# Read the Excel file and skip the first row\n",
        "data = pd.read_excel('Consolidated data.xlsx', skiprows=1)\n",
        "\n",
        "# Remove first column\n",
        "data = data.iloc[:, 1:]\n",
        "\n",
        "# Remove the last two rows\n",
        "data = data.iloc[:-2]\n",
        "\n",
        "# Rename the columns\n",
        "data.columns = ['S.no', 'Company', 'Vendor', 'IRR', 'Strategic fit', 'Technical Feasibility',\n",
        "                'Uniqueness of R&D', 'Reputational risk', 'Market and Business risk',\n",
        "                'Scalability', 'Regulatory risk', 'Market factors'] + data.columns[12:].tolist()\n",
        "\n",
        "# Convert numeric columns to numeric data type\n",
        "numeric_columns = ['IRR', 'Strategic fit', 'Technical Feasibility', 'Uniqueness of R&D',\n",
        "                   'Reputational risk', 'Market and Business risk', 'Scalability',\n",
        "                   'Regulatory risk', 'Market factors']\n",
        "data[numeric_columns] = data[numeric_columns].apply(pd.to_numeric, errors='coerce')\n",
        "\n",
        "# Apply Min-Max normalization to the numeric columns\n",
        "scaler = MinMaxScaler()\n",
        "data[numeric_columns] = scaler.fit_transform(data[numeric_columns])\n",
        "\n",
        "# Assign weights to each attribute\n",
        "weights = {\n",
        "    'IRR': 0.2,\n",
        "    'Strategic fit': 0.1,\n",
        "    'Technical Feasibility': 0.15,\n",
        "    'Uniqueness of R&D': 0.1,\n",
        "    'Reputational risk': 0.1,\n",
        "    'Market and Business risk': 0.1,\n",
        "    'Scalability': 0.1,\n",
        "    'Regulatory risk': 0.1,\n",
        "    'Market factors': 0.05\n",
        "}\n",
        "\n",
        "# Calculate weighted scores for each attribute\n",
        "for attribute in weights:\n",
        "    data[attribute + '_weighted'] = data[attribute] * weights[attribute]\n",
        "\n",
        "# Calculate overall scores\n",
        "data['overall_score'] = data.filter(like='_weighted').sum(axis=1)\n",
        "\n",
        "# Rank options based on overall scores\n",
        "ranked_data = data.sort_values('overall_score', ascending=False)\n",
        "\n",
        "# Abbreviate vendor names\n",
        "abbreviated_names = ['Vendor {}'.format(i + 1) for i in range(len(ranked_data))]\n",
        "ranked_data['Abbreviated Vendor'] = abbreviated_names\n",
        "\n",
        "# Save ranked options to CSV\n",
        "ranked_data[['S.no', 'Company', 'Vendor', 'Abbreviated Vendor', 'overall_score']].to_csv('Options.csv', index=False)\n",
        "output = pd.read_csv('Options.csv')\n",
        "\n",
        "# Plot utility curve\n",
        "plt.plot(output['Abbreviated Vendor'], output['overall_score'])\n",
        "plt.xlabel('Vendor')\n",
        "plt.ylabel('Utility Score')\n",
        "plt.title('Utility Curve')\n",
        "plt.xticks(rotation=90,fontsize=2)\n",
        "plt.show()\n"
      ]
    },
    {
      "cell_type": "code",
      "execution_count": null,
      "metadata": {
        "id": "Fpzlh9YeHzzh"
      },
      "outputs": [],
      "source": [
        "# linear"
      ]
    }
  ],
  "metadata": {
    "colab": {
      "provenance": []
    },
    "kernelspec": {
      "display_name": "Python 3",
      "name": "python3"
    },
    "language_info": {
      "codemirror_mode": {
        "name": "ipython",
        "version": 3
      },
      "file_extension": ".py",
      "mimetype": "text/x-python",
      "name": "python",
      "nbconvert_exporter": "python",
      "pygments_lexer": "ipython3",
      "version": "3.9.12"
    }
  },
  "nbformat": 4,
  "nbformat_minor": 0
}
